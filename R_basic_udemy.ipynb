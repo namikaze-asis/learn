{
 "cells": [
  {
   "cell_type": "markdown",
   "metadata": {},
   "source": [
    "# Vectors"
   ]
  },
  {
   "cell_type": "code",
   "execution_count": 1,
   "metadata": {},
   "outputs": [
    {
     "data": {
      "text/html": [
       "<ol class=list-inline>\n",
       "\t<li>10</li>\n",
       "\t<li>9</li>\n",
       "\t<li>8</li>\n",
       "</ol>\n"
      ],
      "text/latex": [
       "\\begin{enumerate*}\n",
       "\\item 10\n",
       "\\item 9\n",
       "\\item 8\n",
       "\\end{enumerate*}\n"
      ],
      "text/markdown": [
       "1. 10\n",
       "2. 9\n",
       "3. 8\n",
       "\n",
       "\n"
      ],
      "text/plain": [
       "[1] 10  9  8"
      ]
     },
     "execution_count": 1,
     "metadata": {},
     "output_type": "execute_result"
    }
   ],
   "source": [
    "vec1<-c(10,9,8)\n",
    "vec1"
   ]
  },
  {
   "cell_type": "code",
   "execution_count": 2,
   "metadata": {},
   "outputs": [
    {
     "data": {
      "text/html": [
       "<ol class=list-inline>\n",
       "\t<li>'ram'</li>\n",
       "\t<li>'shyam'</li>\n",
       "\t<li>'gopal'</li>\n",
       "</ol>\n"
      ],
      "text/latex": [
       "\\begin{enumerate*}\n",
       "\\item 'ram'\n",
       "\\item 'shyam'\n",
       "\\item 'gopal'\n",
       "\\end{enumerate*}\n"
      ],
      "text/markdown": [
       "1. 'ram'\n",
       "2. 'shyam'\n",
       "3. 'gopal'\n",
       "\n",
       "\n"
      ],
      "text/plain": [
       "[1] \"ram\"   \"shyam\" \"gopal\""
      ]
     },
     "execution_count": 2,
     "metadata": {},
     "output_type": "execute_result"
    }
   ],
   "source": [
    "name_vector<-c('ram','shyam','gopal')\n",
    "name_vector"
   ]
  },
  {
   "cell_type": "code",
   "execution_count": 3,
   "metadata": {},
   "outputs": [
    {
     "name": "stdout",
     "output_type": "stream",
     "text": [
      "[1] 100  81  64\n",
      "[1] 20 18 16\n"
     ]
    }
   ],
   "source": [
    "#operations in vectors\n",
    "multi<-vec1*vec1\n",
    "add<-vec1+vec1\n",
    "print(multi)\n",
    "print(add)"
   ]
  },
  {
   "cell_type": "markdown",
   "metadata": {},
   "source": [
    "# Matrix"
   ]
  },
  {
   "cell_type": "code",
   "execution_count": 4,
   "metadata": {},
   "outputs": [],
   "source": [
    "bitcoin=c(10000,11500,16000,19400,9700)\n",
    "eth=c(190,280,390,660,520)"
   ]
  },
  {
   "cell_type": "code",
   "execution_count": 5,
   "metadata": {},
   "outputs": [
    {
     "data": {
      "text/html": [
       "<table>\n",
       "<thead><tr><th></th><th scope=col>bitcoin</th><th scope=col>eth</th></tr></thead>\n",
       "<tbody>\n",
       "\t<tr><th scope=row>jan</th><td>10000</td><td>  190</td></tr>\n",
       "\t<tr><th scope=row>feb</th><td>11500</td><td>  280</td></tr>\n",
       "\t<tr><th scope=row>march</th><td>16000</td><td>  390</td></tr>\n",
       "\t<tr><th scope=row>april</th><td>19400</td><td>  660</td></tr>\n",
       "\t<tr><th scope=row>may</th><td>9700</td><td> 520</td></tr>\n",
       "</tbody>\n",
       "</table>\n"
      ],
      "text/latex": [
       "\\begin{tabular}{r|ll}\n",
       "  & bitcoin & eth\\\\\n",
       "\\hline\n",
       "\tjan & 10000 &   190\\\\\n",
       "\tfeb & 11500 &   280\\\\\n",
       "\tmarch & 16000 &   390\\\\\n",
       "\tapril & 19400 &   660\\\\\n",
       "\tmay & 9700 &  520\\\\\n",
       "\\end{tabular}\n"
      ],
      "text/markdown": [
       "1. 10000\n",
       "2. 11500\n",
       "3. 16000\n",
       "4. 19400\n",
       "5. 9700\n",
       "6. 190\n",
       "7. 280\n",
       "8. 390\n",
       "9. 660\n",
       "10. 520\n",
       "\n",
       "\n"
      ],
      "text/plain": [
       "      bitcoin eth\n",
       "jan     10000 190\n",
       "feb     11500 280\n",
       "march   16000 390\n",
       "april   19400 660\n",
       "may      9700 520"
      ]
     },
     "execution_count": 5,
     "metadata": {},
     "output_type": "execute_result"
    }
   ],
   "source": [
    "#create a matrix by defining no of rows and columns \n",
    "crypto_matrix<-matrix(c(bitcoin,eth),nrow=5)\n",
    "colnames(crypto_matrix)<-c('bitcoin','eth')\n",
    "rownames(crypto_matrix)<-c('jan','feb','march','april','may')\n",
    "crypto_matrix"
   ]
  },
  {
   "cell_type": "code",
   "execution_count": 6,
   "metadata": {},
   "outputs": [
    {
     "data": {
      "text/html": [
       "<table>\n",
       "<thead><tr><th></th><th scope=col>bitcoin</th><th scope=col>eth</th><th scope=col>Ltc</th></tr></thead>\n",
       "<tbody>\n",
       "\t<tr><th scope=row>jan</th><td>10000</td><td>  190</td><td>   40</td></tr>\n",
       "\t<tr><th scope=row>feb</th><td>11500</td><td>  280</td><td>   70</td></tr>\n",
       "\t<tr><th scope=row>march</th><td>16000</td><td>  390</td><td>   50</td></tr>\n",
       "\t<tr><th scope=row>april</th><td>19400</td><td>  660</td><td>   50</td></tr>\n",
       "\t<tr><th scope=row>may</th><td>9700</td><td> 520</td><td>  50</td></tr>\n",
       "\t<tr><th scope=row>june</th><td>8500</td><td> 400</td><td>  50</td></tr>\n",
       "</tbody>\n",
       "</table>\n"
      ],
      "text/latex": [
       "\\begin{tabular}{r|lll}\n",
       "  & bitcoin & eth & Ltc\\\\\n",
       "\\hline\n",
       "\tjan & 10000 &   190 &    40\\\\\n",
       "\tfeb & 11500 &   280 &    70\\\\\n",
       "\tmarch & 16000 &   390 &    50\\\\\n",
       "\tapril & 19400 &   660 &    50\\\\\n",
       "\tmay & 9700 &  520 &   50\\\\\n",
       "\tjune & 8500 &  400 &   50\\\\\n",
       "\\end{tabular}\n"
      ],
      "text/markdown": [
       "1. 10000\n",
       "2. 11500\n",
       "3. 16000\n",
       "4. 19400\n",
       "5. 9700\n",
       "6. 8500\n",
       "7. 190\n",
       "8. 280\n",
       "9. 390\n",
       "10. 660\n",
       "11. 520\n",
       "12. 400\n",
       "13. 40\n",
       "14. 70\n",
       "15. 50\n",
       "16. 50\n",
       "17. 50\n",
       "18. 50\n",
       "\n",
       "\n"
      ],
      "text/plain": [
       "      bitcoin eth Ltc\n",
       "jan     10000 190  40\n",
       "feb     11500 280  70\n",
       "march   16000 390  50\n",
       "april   19400 660  50\n",
       "may      9700 520  50\n",
       "june     8500 400  50"
      ]
     },
     "execution_count": 6,
     "metadata": {},
     "output_type": "execute_result"
    }
   ],
   "source": [
    "#addition of row and column to the matrix by using rbind and cbind\n",
    "newcol=c(40,70,50,50,50)\n",
    "Ltc<-newcol\n",
    "newrow=c(8500,400,50)\n",
    "june<-newrow\n",
    "crypto_matrix<-cbind(crypto_matrix,Ltc)\n",
    "crypto_matrix<-rbind(crypto_matrix,june) \n",
    "crypto_matrix\n"
   ]
  },
  {
   "cell_type": "code",
   "execution_count": 7,
   "metadata": {},
   "outputs": [
    {
     "name": "stdout",
     "output_type": "stream",
     "text": [
      "  jan   feb march april   may  june \n",
      "   40    70    50    50    50    50 \n",
      "Levels: 40 50 70\n"
     ]
    }
   ],
   "source": [
    "#Factorization and levels of matrix or dataframe\n",
    "print(factor(crypto_matrix[,3]))  #Unique values "
   ]
  },
  {
   "cell_type": "code",
   "execution_count": 8,
   "metadata": {},
   "outputs": [
    {
     "name": "stdout",
     "output_type": "stream",
     "text": [
      "  jan   feb march april   may  june \n",
      "   40    70    50    50    50    50 \n",
      "Levels: 40 < 50 < 70\n"
     ]
    }
   ],
   "source": [
    "ltc_fatctors=factor(crypto_matrix[,3],levels = c(40,50,70),ordered = T)\n",
    "print(ltc_fatctors)  "
   ]
  },
  {
   "cell_type": "code",
   "execution_count": 9,
   "metadata": {},
   "outputs": [
    {
     "name": "stdout",
     "output_type": "stream",
     "text": [
      "[1] cold mid  cold hot  hot  cold\n",
      "Levels: cold < mid < hot\n"
     ]
    }
   ],
   "source": [
    "temprature<-c('cold','mid','cold','hot','hot','cold')\n",
    "temp.fact<-factor(temprature,levels = c('cold','mid','hot'),ordered = T) #here we  provide the order level of factors\n",
    "print(temp.fact)  #we can set who is greater"
   ]
  },
  {
   "cell_type": "markdown",
   "metadata": {},
   "source": [
    "# DataFrame"
   ]
  },
  {
   "cell_type": "code",
   "execution_count": 10,
   "metadata": {},
   "outputs": [],
   "source": [
    "df=data.frame(bitcoin,eth,Ltc)   #used the previous data"
   ]
  },
  {
   "cell_type": "code",
   "execution_count": 11,
   "metadata": {},
   "outputs": [
    {
     "data": {
      "text/html": [
       "<table>\n",
       "<thead><tr><th></th><th scope=col>bitcoin</th><th scope=col>eth</th><th scope=col>Ltc</th></tr></thead>\n",
       "<tbody>\n",
       "\t<tr><th scope=row>1</th><td>10000</td><td>190</td><td>40</td></tr>\n",
       "\t<tr><th scope=row>2</th><td>11500</td><td>280</td><td>70</td></tr>\n",
       "\t<tr><th scope=row>3</th><td>16000</td><td>390</td><td>50</td></tr>\n",
       "\t<tr><th scope=row>4</th><td>19400</td><td>660</td><td>50</td></tr>\n",
       "\t<tr><th scope=row>5</th><td>9700</td><td>520</td><td>50</td></tr>\n",
       "</tbody>\n",
       "</table>\n"
      ],
      "text/latex": [
       "\\begin{tabular}{r|lll}\n",
       "  & bitcoin & eth & Ltc\\\\\n",
       "\\hline\n",
       "\t1 & 10000 & 190 & 40\\\\\n",
       "\t2 & 11500 & 280 & 70\\\\\n",
       "\t3 & 16000 & 390 & 50\\\\\n",
       "\t4 & 19400 & 660 & 50\\\\\n",
       "\t5 & 9700 & 520 & 50\\\\\n",
       "\\end{tabular}\n"
      ],
      "text/plain": [
       "  bitcoin eth Ltc\n",
       "1   10000 190  40\n",
       "2   11500 280  70\n",
       "3   16000 390  50\n",
       "4   19400 660  50\n",
       "5    9700 520  50"
      ]
     },
     "execution_count": 11,
     "metadata": {},
     "output_type": "execute_result"
    }
   ],
   "source": [
    "df"
   ]
  },
  {
   "cell_type": "code",
   "execution_count": 12,
   "metadata": {},
   "outputs": [
    {
     "data": {
      "text/html": [
       "<ol class=list-inline>\n",
       "\t<li>190</li>\n",
       "\t<li>280</li>\n",
       "\t<li>390</li>\n",
       "\t<li>660</li>\n",
       "\t<li>520</li>\n",
       "</ol>\n"
      ],
      "text/latex": [
       "\\begin{enumerate*}\n",
       "\\item 190\n",
       "\\item 280\n",
       "\\item 390\n",
       "\\item 660\n",
       "\\item 520\n",
       "\\end{enumerate*}\n"
      ],
      "text/markdown": [
       "1. 190\n",
       "2. 280\n",
       "3. 390\n",
       "4. 660\n",
       "5. 520\n",
       "\n",
       "\n"
      ],
      "text/plain": [
       "[1] 190 280 390 660 520"
      ]
     },
     "execution_count": 12,
     "metadata": {},
     "output_type": "execute_result"
    },
    {
     "data": {
      "text/html": [
       "<ol class=list-inline>\n",
       "\t<li>190</li>\n",
       "\t<li>280</li>\n",
       "\t<li>390</li>\n",
       "\t<li>660</li>\n",
       "\t<li>520</li>\n",
       "</ol>\n"
      ],
      "text/latex": [
       "\\begin{enumerate*}\n",
       "\\item 190\n",
       "\\item 280\n",
       "\\item 390\n",
       "\\item 660\n",
       "\\item 520\n",
       "\\end{enumerate*}\n"
      ],
      "text/markdown": [
       "1. 190\n",
       "2. 280\n",
       "3. 390\n",
       "4. 660\n",
       "5. 520\n",
       "\n",
       "\n"
      ],
      "text/plain": [
       "[1] 190 280 390 660 520"
      ]
     },
     "execution_count": 12,
     "metadata": {},
     "output_type": "execute_result"
    },
    {
     "data": {
      "text/html": [
       "<ol class=list-inline>\n",
       "\t<li>190</li>\n",
       "\t<li>280</li>\n",
       "\t<li>390</li>\n",
       "\t<li>660</li>\n",
       "\t<li>520</li>\n",
       "</ol>\n"
      ],
      "text/latex": [
       "\\begin{enumerate*}\n",
       "\\item 190\n",
       "\\item 280\n",
       "\\item 390\n",
       "\\item 660\n",
       "\\item 520\n",
       "\\end{enumerate*}\n"
      ],
      "text/markdown": [
       "1. 190\n",
       "2. 280\n",
       "3. 390\n",
       "4. 660\n",
       "5. 520\n",
       "\n",
       "\n"
      ],
      "text/plain": [
       "[1] 190 280 390 660 520"
      ]
     },
     "execution_count": 12,
     "metadata": {},
     "output_type": "execute_result"
    },
    {
     "data": {
      "text/html": [
       "<ol class=list-inline>\n",
       "\t<li>190</li>\n",
       "\t<li>280</li>\n",
       "\t<li>390</li>\n",
       "\t<li>660</li>\n",
       "\t<li>520</li>\n",
       "</ol>\n"
      ],
      "text/latex": [
       "\\begin{enumerate*}\n",
       "\\item 190\n",
       "\\item 280\n",
       "\\item 390\n",
       "\\item 660\n",
       "\\item 520\n",
       "\\end{enumerate*}\n"
      ],
      "text/markdown": [
       "1. 190\n",
       "2. 280\n",
       "3. 390\n",
       "4. 660\n",
       "5. 520\n",
       "\n",
       "\n"
      ],
      "text/plain": [
       "[1] 190 280 390 660 520"
      ]
     },
     "execution_count": 12,
     "metadata": {},
     "output_type": "execute_result"
    }
   ],
   "source": [
    "#4ways of grabbing eth column\n",
    "df[,2]\n",
    "df[,'eth']\n",
    "df[['eth']]\n",
    "df[[2]]"
   ]
  },
  {
   "cell_type": "code",
   "execution_count": 13,
   "metadata": {},
   "outputs": [
    {
     "data": {
      "text/html": [
       "<table>\n",
       "<thead><tr><th></th><th scope=col>bitcoin</th><th scope=col>Ltc</th></tr></thead>\n",
       "<tbody>\n",
       "\t<tr><th scope=row>1</th><td>10000</td><td>40</td></tr>\n",
       "\t<tr><th scope=row>2</th><td>11500</td><td>70</td></tr>\n",
       "\t<tr><th scope=row>3</th><td>16000</td><td>50</td></tr>\n",
       "\t<tr><th scope=row>4</th><td>19400</td><td>50</td></tr>\n",
       "\t<tr><th scope=row>5</th><td>9700</td><td>50</td></tr>\n",
       "</tbody>\n",
       "</table>\n"
      ],
      "text/latex": [
       "\\begin{tabular}{r|ll}\n",
       "  & bitcoin & Ltc\\\\\n",
       "\\hline\n",
       "\t1 & 10000 & 40\\\\\n",
       "\t2 & 11500 & 70\\\\\n",
       "\t3 & 16000 & 50\\\\\n",
       "\t4 & 19400 & 50\\\\\n",
       "\t5 & 9700 & 50\\\\\n",
       "\\end{tabular}\n"
      ],
      "text/plain": [
       "  bitcoin Ltc\n",
       "1   10000  40\n",
       "2   11500  70\n",
       "3   16000  50\n",
       "4   19400  50\n",
       "5    9700  50"
      ]
     },
     "execution_count": 13,
     "metadata": {},
     "output_type": "execute_result"
    }
   ],
   "source": [
    "#to slice all columns except eth column, same applicable for rows\n",
    "df[,-2]"
   ]
  },
  {
   "cell_type": "markdown",
   "metadata": {},
   "source": [
    "# Logical_Operators_And_Loops"
   ]
  },
  {
   "cell_type": "code",
   "execution_count": 14,
   "metadata": {},
   "outputs": [
    {
     "data": {
      "text/html": [
       "TRUE"
      ],
      "text/latex": [
       "TRUE"
      ],
      "text/markdown": [
       "TRUE"
      ],
      "text/plain": [
       "[1] TRUE"
      ]
     },
     "execution_count": 14,
     "metadata": {},
     "output_type": "execute_result"
    },
    {
     "data": {
      "text/html": [
       "TRUE"
      ],
      "text/latex": [
       "TRUE"
      ],
      "text/markdown": [
       "TRUE"
      ],
      "text/plain": [
       "[1] TRUE"
      ]
     },
     "execution_count": 14,
     "metadata": {},
     "output_type": "execute_result"
    },
    {
     "data": {
      "text/html": [
       "TRUE"
      ],
      "text/latex": [
       "TRUE"
      ],
      "text/markdown": [
       "TRUE"
      ],
      "text/plain": [
       "[1] TRUE"
      ]
     },
     "execution_count": 14,
     "metadata": {},
     "output_type": "execute_result"
    }
   ],
   "source": [
    "x<-10\n",
    "x==10 & x<11      #And\n",
    "x==8 | x<11       #Or\n",
    "x !=11"
   ]
  },
  {
   "cell_type": "code",
   "execution_count": 15,
   "metadata": {},
   "outputs": [
    {
     "name": "stdout",
     "output_type": "stream",
     "text": [
      "[1] \"value of x is neither 10 or 13\"\n"
     ]
    }
   ],
   "source": [
    "#If_else_loop\n",
    "x<-14\n",
    "if (x==10){\n",
    "    print('value of x is 10')\n",
    "}else if(x==13){\n",
    "    print('value of x 13')\n",
    "}else{\n",
    "    print('value of x is neither 10 or 13')\n",
    "}\n"
   ]
  },
  {
   "cell_type": "code",
   "execution_count": 16,
   "metadata": {},
   "outputs": [
    {
     "name": "stdout",
     "output_type": "stream",
     "text": [
      "[1] 2\n",
      "[1] 3\n",
      "[1] 4\n",
      "[1] 5\n",
      "[1] 6\n",
      "[1] 7\n",
      "[1] 8\n",
      "[1] 9\n",
      "[1] 10\n"
     ]
    }
   ],
   "source": [
    "#while_loop \n",
    "x=10\n",
    "y=1\n",
    "while (y<10){\n",
    "    y=y+1\n",
    "    print(y)\n",
    "}"
   ]
  },
  {
   "cell_type": "code",
   "execution_count": 17,
   "metadata": {},
   "outputs": [
    {
     "name": "stdout",
     "output_type": "stream",
     "text": [
      "[1] 1\n",
      "[1] 2\n",
      "[1] 3\n",
      "[1] 4\n",
      "[1] 5\n",
      "[1] 6\n",
      "[1] 7\n",
      "[1] 8\n",
      "[1] 9\n",
      "[1] 10\n"
     ]
    }
   ],
   "source": [
    "#for_Loop\n",
    "x<-10\n",
    "for(i in 1:10){\n",
    "    print(i)\n",
    "}"
   ]
  },
  {
   "cell_type": "code",
   "execution_count": 18,
   "metadata": {},
   "outputs": [
    {
     "data": {
      "text/html": [
       "25"
      ],
      "text/latex": [
       "25"
      ],
      "text/markdown": [
       "25"
      ],
      "text/plain": [
       "[1] 25"
      ]
     },
     "execution_count": 18,
     "metadata": {},
     "output_type": "execute_result"
    }
   ],
   "source": [
    "#Function\n",
    "summation<-function(a,b){\n",
    "    return(a+b)\n",
    "}\n",
    "summation(10,15)"
   ]
  },
  {
   "cell_type": "markdown",
   "metadata": {},
   "source": [
    "# Built_in_R_features"
   ]
  },
  {
   "cell_type": "code",
   "execution_count": 20,
   "metadata": {},
   "outputs": [
    {
     "data": {
      "text/html": [
       "<ol class=list-inline>\n",
       "\t<li>0</li>\n",
       "\t<li>4</li>\n",
       "\t<li>8</li>\n",
       "\t<li>12</li>\n",
       "\t<li>16</li>\n",
       "\t<li>20</li>\n",
       "</ol>\n"
      ],
      "text/latex": [
       "\\begin{enumerate*}\n",
       "\\item 0\n",
       "\\item 4\n",
       "\\item 8\n",
       "\\item 12\n",
       "\\item 16\n",
       "\\item 20\n",
       "\\end{enumerate*}\n"
      ],
      "text/markdown": [
       "1. 0\n",
       "2. 4\n",
       "3. 8\n",
       "4. 12\n",
       "5. 16\n",
       "6. 20\n",
       "\n",
       "\n"
      ],
      "text/plain": [
       "[1]  0  4  8 12 16 20"
      ]
     },
     "execution_count": 20,
     "metadata": {},
     "output_type": "execute_result"
    }
   ],
   "source": [
    "seq(0,20,4)   #range(0,20,4)"
   ]
  },
  {
   "cell_type": "code",
   "execution_count": 23,
   "metadata": {},
   "outputs": [
    {
     "data": {
      "text/html": [
       "10"
      ],
      "text/latex": [
       "10"
      ],
      "text/markdown": [
       "10"
      ],
      "text/plain": [
       "[1] 10"
      ]
     },
     "execution_count": 23,
     "metadata": {},
     "output_type": "execute_result"
    },
    {
     "data": {
      "text/html": [
       "<ol class=list-inline>\n",
       "\t<li>10</li>\n",
       "\t<li>20</li>\n",
       "</ol>\n"
      ],
      "text/latex": [
       "\\begin{enumerate*}\n",
       "\\item 10\n",
       "\\item 20\n",
       "\\end{enumerate*}\n"
      ],
      "text/markdown": [
       "1. 10\n",
       "2. 20\n",
       "\n",
       "\n"
      ],
      "text/plain": [
       "[1] 10 20"
      ]
     },
     "execution_count": 23,
     "metadata": {},
     "output_type": "execute_result"
    }
   ],
   "source": [
    "c=c()\n",
    "c=append(c,10)\n",
    "c\n",
    "c=append(c,20)\n",
    "c"
   ]
  },
  {
   "cell_type": "code",
   "execution_count": null,
   "metadata": {},
   "outputs": [],
   "source": []
  }
 ],
 "metadata": {
  "kernelspec": {
   "display_name": "R",
   "language": "R",
   "name": "ir"
  },
  "language_info": {
   "codemirror_mode": "r",
   "file_extension": ".r",
   "mimetype": "text/x-r-source",
   "name": "R",
   "pygments_lexer": "r",
   "version": "3.2.2"
  }
 },
 "nbformat": 4,
 "nbformat_minor": 4
}
