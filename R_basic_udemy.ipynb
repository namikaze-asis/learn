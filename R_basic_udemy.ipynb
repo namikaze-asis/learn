{
 "cells": [
  {
   "cell_type": "raw",
   "metadata": {},
   "source": [
    "control+l   to clear console "
   ]
  },
  {
   "cell_type": "markdown",
   "metadata": {},
   "source": [
    "# Vectors"
   ]
  },
  {
   "cell_type": "code",
   "execution_count": 1,
   "metadata": {},
   "outputs": [
    {
     "data": {
      "text/html": [
       "<ol class=list-inline>\n",
       "\t<li>10</li>\n",
       "\t<li>9</li>\n",
       "\t<li>8</li>\n",
       "</ol>\n"
      ],
      "text/latex": [
       "\\begin{enumerate*}\n",
       "\\item 10\n",
       "\\item 9\n",
       "\\item 8\n",
       "\\end{enumerate*}\n"
      ],
      "text/markdown": [
       "1. 10\n",
       "2. 9\n",
       "3. 8\n",
       "\n",
       "\n"
      ],
      "text/plain": [
       "[1] 10  9  8"
      ]
     },
     "execution_count": 1,
     "metadata": {},
     "output_type": "execute_result"
    }
   ],
   "source": [
    "vec1<-c(10,9,8)\n",
    "vec1"
   ]
  },
  {
   "cell_type": "code",
   "execution_count": 2,
   "metadata": {},
   "outputs": [
    {
     "data": {
      "text/html": [
       "<ol class=list-inline>\n",
       "\t<li>'ram'</li>\n",
       "\t<li>'shyam'</li>\n",
       "\t<li>'gopal'</li>\n",
       "</ol>\n"
      ],
      "text/latex": [
       "\\begin{enumerate*}\n",
       "\\item 'ram'\n",
       "\\item 'shyam'\n",
       "\\item 'gopal'\n",
       "\\end{enumerate*}\n"
      ],
      "text/markdown": [
       "1. 'ram'\n",
       "2. 'shyam'\n",
       "3. 'gopal'\n",
       "\n",
       "\n"
      ],
      "text/plain": [
       "[1] \"ram\"   \"shyam\" \"gopal\""
      ]
     },
     "execution_count": 2,
     "metadata": {},
     "output_type": "execute_result"
    }
   ],
   "source": [
    "name_vector<-c('ram','shyam','gopal')\n",
    "name_vector"
   ]
  },
  {
   "cell_type": "code",
   "execution_count": 3,
   "metadata": {},
   "outputs": [
    {
     "name": "stdout",
     "output_type": "stream",
     "text": [
      "[1] 100  81  64\n",
      "[1] 20 18 16\n"
     ]
    }
   ],
   "source": [
    "#operations in vectors\n",
    "multi<-vec1*vec1\n",
    "add<-vec1+vec1\n",
    "print(multi)\n",
    "print(add)"
   ]
  },
  {
   "cell_type": "markdown",
   "metadata": {},
   "source": [
    "# Matrix"
   ]
  },
  {
   "cell_type": "code",
   "execution_count": 4,
   "metadata": {},
   "outputs": [],
   "source": [
    "bitcoin=c(10000,11500,16000,19400,9700)\n",
    "eth=c(190,280,390,660,520)"
   ]
  },
  {
   "cell_type": "code",
   "execution_count": 5,
   "metadata": {},
   "outputs": [
    {
     "data": {
      "text/html": [
       "<table>\n",
       "<thead><tr><th></th><th scope=col>bitcoin</th><th scope=col>eth</th></tr></thead>\n",
       "<tbody>\n",
       "\t<tr><th scope=row>jan</th><td>10000</td><td>  190</td></tr>\n",
       "\t<tr><th scope=row>feb</th><td>11500</td><td>  280</td></tr>\n",
       "\t<tr><th scope=row>march</th><td>16000</td><td>  390</td></tr>\n",
       "\t<tr><th scope=row>april</th><td>19400</td><td>  660</td></tr>\n",
       "\t<tr><th scope=row>may</th><td>9700</td><td> 520</td></tr>\n",
       "</tbody>\n",
       "</table>\n"
      ],
      "text/latex": [
       "\\begin{tabular}{r|ll}\n",
       "  & bitcoin & eth\\\\\n",
       "\\hline\n",
       "\tjan & 10000 &   190\\\\\n",
       "\tfeb & 11500 &   280\\\\\n",
       "\tmarch & 16000 &   390\\\\\n",
       "\tapril & 19400 &   660\\\\\n",
       "\tmay & 9700 &  520\\\\\n",
       "\\end{tabular}\n"
      ],
      "text/markdown": [
       "1. 10000\n",
       "2. 11500\n",
       "3. 16000\n",
       "4. 19400\n",
       "5. 9700\n",
       "6. 190\n",
       "7. 280\n",
       "8. 390\n",
       "9. 660\n",
       "10. 520\n",
       "\n",
       "\n"
      ],
      "text/plain": [
       "      bitcoin eth\n",
       "jan     10000 190\n",
       "feb     11500 280\n",
       "march   16000 390\n",
       "april   19400 660\n",
       "may      9700 520"
      ]
     },
     "execution_count": 5,
     "metadata": {},
     "output_type": "execute_result"
    }
   ],
   "source": [
    "#create a matrix by defining no of rows and columns \n",
    "crypto_matrix<-matrix(c(bitcoin,eth),nrow=5)\n",
    "colnames(crypto_matrix)<-c('bitcoin','eth')\n",
    "rownames(crypto_matrix)<-c('jan','feb','march','april','may')\n",
    "crypto_matrix"
   ]
  },
  {
   "cell_type": "code",
   "execution_count": 6,
   "metadata": {},
   "outputs": [
    {
     "data": {
      "text/html": [
       "<table>\n",
       "<thead><tr><th></th><th scope=col>bitcoin</th><th scope=col>eth</th><th scope=col>Ltc</th></tr></thead>\n",
       "<tbody>\n",
       "\t<tr><th scope=row>jan</th><td>10000</td><td>  190</td><td>   40</td></tr>\n",
       "\t<tr><th scope=row>feb</th><td>11500</td><td>  280</td><td>   70</td></tr>\n",
       "\t<tr><th scope=row>march</th><td>16000</td><td>  390</td><td>   50</td></tr>\n",
       "\t<tr><th scope=row>april</th><td>19400</td><td>  660</td><td>   50</td></tr>\n",
       "\t<tr><th scope=row>may</th><td>9700</td><td> 520</td><td>  50</td></tr>\n",
       "\t<tr><th scope=row>june</th><td>8500</td><td> 400</td><td>  50</td></tr>\n",
       "</tbody>\n",
       "</table>\n"
      ],
      "text/latex": [
       "\\begin{tabular}{r|lll}\n",
       "  & bitcoin & eth & Ltc\\\\\n",
       "\\hline\n",
       "\tjan & 10000 &   190 &    40\\\\\n",
       "\tfeb & 11500 &   280 &    70\\\\\n",
       "\tmarch & 16000 &   390 &    50\\\\\n",
       "\tapril & 19400 &   660 &    50\\\\\n",
       "\tmay & 9700 &  520 &   50\\\\\n",
       "\tjune & 8500 &  400 &   50\\\\\n",
       "\\end{tabular}\n"
      ],
      "text/markdown": [
       "1. 10000\n",
       "2. 11500\n",
       "3. 16000\n",
       "4. 19400\n",
       "5. 9700\n",
       "6. 8500\n",
       "7. 190\n",
       "8. 280\n",
       "9. 390\n",
       "10. 660\n",
       "11. 520\n",
       "12. 400\n",
       "13. 40\n",
       "14. 70\n",
       "15. 50\n",
       "16. 50\n",
       "17. 50\n",
       "18. 50\n",
       "\n",
       "\n"
      ],
      "text/plain": [
       "      bitcoin eth Ltc\n",
       "jan     10000 190  40\n",
       "feb     11500 280  70\n",
       "march   16000 390  50\n",
       "april   19400 660  50\n",
       "may      9700 520  50\n",
       "june     8500 400  50"
      ]
     },
     "execution_count": 6,
     "metadata": {},
     "output_type": "execute_result"
    }
   ],
   "source": [
    "#addition of row and column to the matrix by using rbind and cbind\n",
    "newcol=c(40,70,50,50,50)\n",
    "Ltc<-newcol\n",
    "newrow=c(8500,400,50)\n",
    "june<-newrow\n",
    "crypto_matrix<-cbind(crypto_matrix,Ltc)\n",
    "crypto_matrix<-rbind(crypto_matrix,june) \n",
    "crypto_matrix\n"
   ]
  },
  {
   "cell_type": "code",
   "execution_count": 7,
   "metadata": {},
   "outputs": [
    {
     "name": "stdout",
     "output_type": "stream",
     "text": [
      "  jan   feb march april   may  june \n",
      "   40    70    50    50    50    50 \n",
      "Levels: 40 50 70\n"
     ]
    }
   ],
   "source": [
    "#Factorization and levels of matrix or dataframe\n",
    "print(factor(crypto_matrix[,3]))  #Unique values "
   ]
  },
  {
   "cell_type": "code",
   "execution_count": 8,
   "metadata": {},
   "outputs": [
    {
     "name": "stdout",
     "output_type": "stream",
     "text": [
      "  jan   feb march april   may  june \n",
      "   40    70    50    50    50    50 \n",
      "Levels: 40 < 50 < 70\n"
     ]
    }
   ],
   "source": [
    "ltc_fatctors=factor(crypto_matrix[,3],levels = c(40,50,70),ordered = T)\n",
    "print(ltc_fatctors)  "
   ]
  },
  {
   "cell_type": "code",
   "execution_count": 9,
   "metadata": {},
   "outputs": [
    {
     "name": "stdout",
     "output_type": "stream",
     "text": [
      "[1] cold mid  cold hot  hot  cold\n",
      "Levels: cold < mid < hot\n"
     ]
    }
   ],
   "source": [
    "temprature<-c('cold','mid','cold','hot','hot','cold')\n",
    "temp.fact<-factor(temprature,levels = c('cold','mid','hot'),ordered = T) #here we  provide the order level of factors\n",
    "print(temp.fact)  #we can set who is greater"
   ]
  },
  {
   "cell_type": "markdown",
   "metadata": {},
   "source": [
    "# DataFrame"
   ]
  },
  {
   "cell_type": "code",
   "execution_count": 10,
   "metadata": {},
   "outputs": [],
   "source": [
    "df=data.frame(bitcoin,eth,Ltc)   #used the previous data"
   ]
  },
  {
   "cell_type": "code",
   "execution_count": 11,
   "metadata": {},
   "outputs": [
    {
     "data": {
      "text/html": [
       "<table>\n",
       "<thead><tr><th></th><th scope=col>bitcoin</th><th scope=col>eth</th><th scope=col>Ltc</th></tr></thead>\n",
       "<tbody>\n",
       "\t<tr><th scope=row>1</th><td>10000</td><td>190</td><td>40</td></tr>\n",
       "\t<tr><th scope=row>2</th><td>11500</td><td>280</td><td>70</td></tr>\n",
       "\t<tr><th scope=row>3</th><td>16000</td><td>390</td><td>50</td></tr>\n",
       "\t<tr><th scope=row>4</th><td>19400</td><td>660</td><td>50</td></tr>\n",
       "\t<tr><th scope=row>5</th><td>9700</td><td>520</td><td>50</td></tr>\n",
       "</tbody>\n",
       "</table>\n"
      ],
      "text/latex": [
       "\\begin{tabular}{r|lll}\n",
       "  & bitcoin & eth & Ltc\\\\\n",
       "\\hline\n",
       "\t1 & 10000 & 190 & 40\\\\\n",
       "\t2 & 11500 & 280 & 70\\\\\n",
       "\t3 & 16000 & 390 & 50\\\\\n",
       "\t4 & 19400 & 660 & 50\\\\\n",
       "\t5 & 9700 & 520 & 50\\\\\n",
       "\\end{tabular}\n"
      ],
      "text/plain": [
       "  bitcoin eth Ltc\n",
       "1   10000 190  40\n",
       "2   11500 280  70\n",
       "3   16000 390  50\n",
       "4   19400 660  50\n",
       "5    9700 520  50"
      ]
     },
     "execution_count": 11,
     "metadata": {},
     "output_type": "execute_result"
    }
   ],
   "source": [
    "df"
   ]
  },
  {
   "cell_type": "code",
   "execution_count": 12,
   "metadata": {},
   "outputs": [
    {
     "data": {
      "text/html": [
       "<ol class=list-inline>\n",
       "\t<li>190</li>\n",
       "\t<li>280</li>\n",
       "\t<li>390</li>\n",
       "\t<li>660</li>\n",
       "\t<li>520</li>\n",
       "</ol>\n"
      ],
      "text/latex": [
       "\\begin{enumerate*}\n",
       "\\item 190\n",
       "\\item 280\n",
       "\\item 390\n",
       "\\item 660\n",
       "\\item 520\n",
       "\\end{enumerate*}\n"
      ],
      "text/markdown": [
       "1. 190\n",
       "2. 280\n",
       "3. 390\n",
       "4. 660\n",
       "5. 520\n",
       "\n",
       "\n"
      ],
      "text/plain": [
       "[1] 190 280 390 660 520"
      ]
     },
     "execution_count": 12,
     "metadata": {},
     "output_type": "execute_result"
    },
    {
     "data": {
      "text/html": [
       "<ol class=list-inline>\n",
       "\t<li>190</li>\n",
       "\t<li>280</li>\n",
       "\t<li>390</li>\n",
       "\t<li>660</li>\n",
       "\t<li>520</li>\n",
       "</ol>\n"
      ],
      "text/latex": [
       "\\begin{enumerate*}\n",
       "\\item 190\n",
       "\\item 280\n",
       "\\item 390\n",
       "\\item 660\n",
       "\\item 520\n",
       "\\end{enumerate*}\n"
      ],
      "text/markdown": [
       "1. 190\n",
       "2. 280\n",
       "3. 390\n",
       "4. 660\n",
       "5. 520\n",
       "\n",
       "\n"
      ],
      "text/plain": [
       "[1] 190 280 390 660 520"
      ]
     },
     "execution_count": 12,
     "metadata": {},
     "output_type": "execute_result"
    },
    {
     "data": {
      "text/html": [
       "<ol class=list-inline>\n",
       "\t<li>190</li>\n",
       "\t<li>280</li>\n",
       "\t<li>390</li>\n",
       "\t<li>660</li>\n",
       "\t<li>520</li>\n",
       "</ol>\n"
      ],
      "text/latex": [
       "\\begin{enumerate*}\n",
       "\\item 190\n",
       "\\item 280\n",
       "\\item 390\n",
       "\\item 660\n",
       "\\item 520\n",
       "\\end{enumerate*}\n"
      ],
      "text/markdown": [
       "1. 190\n",
       "2. 280\n",
       "3. 390\n",
       "4. 660\n",
       "5. 520\n",
       "\n",
       "\n"
      ],
      "text/plain": [
       "[1] 190 280 390 660 520"
      ]
     },
     "execution_count": 12,
     "metadata": {},
     "output_type": "execute_result"
    },
    {
     "data": {
      "text/html": [
       "<ol class=list-inline>\n",
       "\t<li>190</li>\n",
       "\t<li>280</li>\n",
       "\t<li>390</li>\n",
       "\t<li>660</li>\n",
       "\t<li>520</li>\n",
       "</ol>\n"
      ],
      "text/latex": [
       "\\begin{enumerate*}\n",
       "\\item 190\n",
       "\\item 280\n",
       "\\item 390\n",
       "\\item 660\n",
       "\\item 520\n",
       "\\end{enumerate*}\n"
      ],
      "text/markdown": [
       "1. 190\n",
       "2. 280\n",
       "3. 390\n",
       "4. 660\n",
       "5. 520\n",
       "\n",
       "\n"
      ],
      "text/plain": [
       "[1] 190 280 390 660 520"
      ]
     },
     "execution_count": 12,
     "metadata": {},
     "output_type": "execute_result"
    }
   ],
   "source": [
    "#4ways of grabbing eth column\n",
    "df[,2]\n",
    "df[,'eth']\n",
    "df[['eth']]\n",
    "df[[2]]"
   ]
  },
  {
   "cell_type": "code",
   "execution_count": 13,
   "metadata": {},
   "outputs": [
    {
     "data": {
      "text/html": [
       "<table>\n",
       "<thead><tr><th></th><th scope=col>bitcoin</th><th scope=col>Ltc</th></tr></thead>\n",
       "<tbody>\n",
       "\t<tr><th scope=row>1</th><td>10000</td><td>40</td></tr>\n",
       "\t<tr><th scope=row>2</th><td>11500</td><td>70</td></tr>\n",
       "\t<tr><th scope=row>3</th><td>16000</td><td>50</td></tr>\n",
       "\t<tr><th scope=row>4</th><td>19400</td><td>50</td></tr>\n",
       "\t<tr><th scope=row>5</th><td>9700</td><td>50</td></tr>\n",
       "</tbody>\n",
       "</table>\n"
      ],
      "text/latex": [
       "\\begin{tabular}{r|ll}\n",
       "  & bitcoin & Ltc\\\\\n",
       "\\hline\n",
       "\t1 & 10000 & 40\\\\\n",
       "\t2 & 11500 & 70\\\\\n",
       "\t3 & 16000 & 50\\\\\n",
       "\t4 & 19400 & 50\\\\\n",
       "\t5 & 9700 & 50\\\\\n",
       "\\end{tabular}\n"
      ],
      "text/plain": [
       "  bitcoin Ltc\n",
       "1   10000  40\n",
       "2   11500  70\n",
       "3   16000  50\n",
       "4   19400  50\n",
       "5    9700  50"
      ]
     },
     "execution_count": 13,
     "metadata": {},
     "output_type": "execute_result"
    }
   ],
   "source": [
    "#to slice all columns except eth column, same applicable for rows\n",
    "df[,-2]"
   ]
  },
  {
   "cell_type": "markdown",
   "metadata": {},
   "source": [
    "# Logical_Operators_And_Loops"
   ]
  },
  {
   "cell_type": "code",
   "execution_count": 14,
   "metadata": {},
   "outputs": [
    {
     "data": {
      "text/html": [
       "TRUE"
      ],
      "text/latex": [
       "TRUE"
      ],
      "text/markdown": [
       "TRUE"
      ],
      "text/plain": [
       "[1] TRUE"
      ]
     },
     "execution_count": 14,
     "metadata": {},
     "output_type": "execute_result"
    },
    {
     "data": {
      "text/html": [
       "TRUE"
      ],
      "text/latex": [
       "TRUE"
      ],
      "text/markdown": [
       "TRUE"
      ],
      "text/plain": [
       "[1] TRUE"
      ]
     },
     "execution_count": 14,
     "metadata": {},
     "output_type": "execute_result"
    },
    {
     "data": {
      "text/html": [
       "TRUE"
      ],
      "text/latex": [
       "TRUE"
      ],
      "text/markdown": [
       "TRUE"
      ],
      "text/plain": [
       "[1] TRUE"
      ]
     },
     "execution_count": 14,
     "metadata": {},
     "output_type": "execute_result"
    }
   ],
   "source": [
    "x<-10\n",
    "x==10 & x<11      #And\n",
    "x==8 | x<11       #Or\n",
    "x !=11"
   ]
  },
  {
   "cell_type": "code",
   "execution_count": 15,
   "metadata": {},
   "outputs": [
    {
     "name": "stdout",
     "output_type": "stream",
     "text": [
      "[1] \"value of x is neither 10 or 13\"\n"
     ]
    }
   ],
   "source": [
    "#If_else_loop\n",
    "x<-14\n",
    "if (x==10){\n",
    "    print('value of x is 10')\n",
    "}else if(x==13){\n",
    "    print('value of x 13')\n",
    "}else{\n",
    "    print('value of x is neither 10 or 13')\n",
    "}\n"
   ]
  },
  {
   "cell_type": "code",
   "execution_count": 16,
   "metadata": {},
   "outputs": [
    {
     "name": "stdout",
     "output_type": "stream",
     "text": [
      "[1] 2\n",
      "[1] 3\n",
      "[1] 4\n",
      "[1] 5\n",
      "[1] 6\n",
      "[1] 7\n",
      "[1] 8\n",
      "[1] 9\n",
      "[1] 10\n"
     ]
    }
   ],
   "source": [
    "#while_loop \n",
    "x=10\n",
    "y=1\n",
    "while (y<10){\n",
    "    y=y+1\n",
    "    print(y)\n",
    "}"
   ]
  },
  {
   "cell_type": "code",
   "execution_count": 15,
   "metadata": {},
   "outputs": [
    {
     "name": "stdout",
     "output_type": "stream",
     "text": [
      "[1] 1\n",
      "[1] 2\n",
      "[1] 3\n",
      "[1] 4\n",
      "[1] 5\n",
      "[1] 6\n"
     ]
    }
   ],
   "source": [
    "#for_Loop\n",
    "x<-10\n",
    "for(i in 1:6){\n",
    "    print(i)\n",
    "}"
   ]
  },
  {
   "cell_type": "code",
   "execution_count": 18,
   "metadata": {},
   "outputs": [
    {
     "data": {
      "text/html": [
       "25"
      ],
      "text/latex": [
       "25"
      ],
      "text/markdown": [
       "25"
      ],
      "text/plain": [
       "[1] 25"
      ]
     },
     "execution_count": 18,
     "metadata": {},
     "output_type": "execute_result"
    }
   ],
   "source": [
    "#Function\n",
    "summation<-function(a,b){\n",
    "    return(a+b)\n",
    "}\n",
    "summation(10,15)"
   ]
  },
  {
   "cell_type": "markdown",
   "metadata": {},
   "source": [
    "# Built_in_R_features"
   ]
  },
  {
   "cell_type": "code",
   "execution_count": 20,
   "metadata": {},
   "outputs": [
    {
     "data": {
      "text/html": [
       "<ol class=list-inline>\n",
       "\t<li>0</li>\n",
       "\t<li>4</li>\n",
       "\t<li>8</li>\n",
       "\t<li>12</li>\n",
       "\t<li>16</li>\n",
       "\t<li>20</li>\n",
       "</ol>\n"
      ],
      "text/latex": [
       "\\begin{enumerate*}\n",
       "\\item 0\n",
       "\\item 4\n",
       "\\item 8\n",
       "\\item 12\n",
       "\\item 16\n",
       "\\item 20\n",
       "\\end{enumerate*}\n"
      ],
      "text/markdown": [
       "1. 0\n",
       "2. 4\n",
       "3. 8\n",
       "4. 12\n",
       "5. 16\n",
       "6. 20\n",
       "\n",
       "\n"
      ],
      "text/plain": [
       "[1]  0  4  8 12 16 20"
      ]
     },
     "execution_count": 20,
     "metadata": {},
     "output_type": "execute_result"
    }
   ],
   "source": [
    "seq(0,20,4)   #range(0,20,4)"
   ]
  },
  {
   "cell_type": "code",
   "execution_count": 23,
   "metadata": {},
   "outputs": [
    {
     "data": {
      "text/html": [
       "10"
      ],
      "text/latex": [
       "10"
      ],
      "text/markdown": [
       "10"
      ],
      "text/plain": [
       "[1] 10"
      ]
     },
     "execution_count": 23,
     "metadata": {},
     "output_type": "execute_result"
    },
    {
     "data": {
      "text/html": [
       "<ol class=list-inline>\n",
       "\t<li>10</li>\n",
       "\t<li>20</li>\n",
       "</ol>\n"
      ],
      "text/latex": [
       "\\begin{enumerate*}\n",
       "\\item 10\n",
       "\\item 20\n",
       "\\end{enumerate*}\n"
      ],
      "text/markdown": [
       "1. 10\n",
       "2. 20\n",
       "\n",
       "\n"
      ],
      "text/plain": [
       "[1] 10 20"
      ]
     },
     "execution_count": 23,
     "metadata": {},
     "output_type": "execute_result"
    }
   ],
   "source": [
    "c=c()\n",
    "c=append(c,10)\n",
    "c\n",
    "c=append(c,20)\n",
    "c"
   ]
  },
  {
   "cell_type": "markdown",
   "metadata": {},
   "source": [
    "# dplyr"
   ]
  },
  {
   "cell_type": "code",
   "execution_count": 1,
   "metadata": {},
   "outputs": [
    {
     "name": "stderr",
     "output_type": "stream",
     "text": [
      "\n",
      "Attaching package: ‘dplyr’\n",
      "\n",
      "The following objects are masked from ‘package:stats’:\n",
      "\n",
      "    filter, lag\n",
      "\n",
      "The following objects are masked from ‘package:base’:\n",
      "\n",
      "    intersect, setdiff, setequal, union\n",
      "\n"
     ]
    }
   ],
   "source": [
    "library(dplyr)"
   ]
  },
  {
   "cell_type": "code",
   "execution_count": 2,
   "metadata": {},
   "outputs": [
    {
     "data": {
      "text/html": [
       "<table>\n",
       "<thead><tr><th></th><th scope=col>Sepal.Length</th><th scope=col>Sepal.Width</th><th scope=col>Petal.Length</th><th scope=col>Petal.Width</th><th scope=col>Species</th></tr></thead>\n",
       "<tbody>\n",
       "\t<tr><th scope=row>1</th><td>5.1</td><td>3.5</td><td>1.4</td><td>0.2</td><td>setosa</td></tr>\n",
       "\t<tr><th scope=row>2</th><td>4.9</td><td>3</td><td>1.4</td><td>0.2</td><td>setosa</td></tr>\n",
       "\t<tr><th scope=row>3</th><td>4.7</td><td>3.2</td><td>1.3</td><td>0.2</td><td>setosa</td></tr>\n",
       "\t<tr><th scope=row>4</th><td>4.6</td><td>3.1</td><td>1.5</td><td>0.2</td><td>setosa</td></tr>\n",
       "\t<tr><th scope=row>5</th><td>5</td><td>3.6</td><td>1.4</td><td>0.2</td><td>setosa</td></tr>\n",
       "\t<tr><th scope=row>6</th><td>5.4</td><td>3.9</td><td>1.7</td><td>0.4</td><td>setosa</td></tr>\n",
       "</tbody>\n",
       "</table>\n"
      ],
      "text/latex": [
       "\\begin{tabular}{r|lllll}\n",
       "  & Sepal.Length & Sepal.Width & Petal.Length & Petal.Width & Species\\\\\n",
       "\\hline\n",
       "\t1 & 5.1 & 3.5 & 1.4 & 0.2 & setosa\\\\\n",
       "\t2 & 4.9 & 3 & 1.4 & 0.2 & setosa\\\\\n",
       "\t3 & 4.7 & 3.2 & 1.3 & 0.2 & setosa\\\\\n",
       "\t4 & 4.6 & 3.1 & 1.5 & 0.2 & setosa\\\\\n",
       "\t5 & 5 & 3.6 & 1.4 & 0.2 & setosa\\\\\n",
       "\t6 & 5.4 & 3.9 & 1.7 & 0.4 & setosa\\\\\n",
       "\\end{tabular}\n"
      ],
      "text/plain": [
       "  Sepal.Length Sepal.Width Petal.Length Petal.Width Species\n",
       "1          5.1         3.5          1.4         0.2  setosa\n",
       "2          4.9         3.0          1.4         0.2  setosa\n",
       "3          4.7         3.2          1.3         0.2  setosa\n",
       "4          4.6         3.1          1.5         0.2  setosa\n",
       "5          5.0         3.6          1.4         0.2  setosa\n",
       "6          5.4         3.9          1.7         0.4  setosa"
      ]
     },
     "execution_count": 2,
     "metadata": {},
     "output_type": "execute_result"
    }
   ],
   "source": [
    "head(iris)"
   ]
  },
  {
   "cell_type": "code",
   "execution_count": 5,
   "metadata": {},
   "outputs": [
    {
     "data": {
      "text/html": [
       "<table>\n",
       "<thead><tr><th></th><th scope=col>Sepal.Length</th><th scope=col>Sepal.Width</th><th scope=col>Petal.Length</th><th scope=col>Petal.Width</th><th scope=col>Species</th></tr></thead>\n",
       "<tbody>\n",
       "\t<tr><th scope=row>1</th><td>5.7</td><td>4.4</td><td>1.5</td><td>0.4</td><td>setosa</td></tr>\n",
       "\t<tr><th scope=row>2</th><td>5.2</td><td>4.1</td><td>1.5</td><td>0.1</td><td>setosa</td></tr>\n",
       "\t<tr><th scope=row>3</th><td>5.5</td><td>4.2</td><td>1.4</td><td>0.2</td><td>setosa</td></tr>\n",
       "</tbody>\n",
       "</table>\n"
      ],
      "text/latex": [
       "\\begin{tabular}{r|lllll}\n",
       "  & Sepal.Length & Sepal.Width & Petal.Length & Petal.Width & Species\\\\\n",
       "\\hline\n",
       "\t1 & 5.7 & 4.4 & 1.5 & 0.4 & setosa\\\\\n",
       "\t2 & 5.2 & 4.1 & 1.5 & 0.1 & setosa\\\\\n",
       "\t3 & 5.5 & 4.2 & 1.4 & 0.2 & setosa\\\\\n",
       "\\end{tabular}\n"
      ],
      "text/plain": [
       "  Sepal.Length Sepal.Width Petal.Length Petal.Width Species\n",
       "1          5.7         4.4          1.5         0.4  setosa\n",
       "2          5.2         4.1          1.5         0.1  setosa\n",
       "3          5.5         4.2          1.4         0.2  setosa"
      ]
     },
     "execution_count": 5,
     "metadata": {},
     "output_type": "execute_result"
    }
   ],
   "source": [
    "#filter-To filter specific columns with some value threshold\n",
    "dplyr::filter(iris,iris$Sepal.Length>5,iris$Sepal.Width>4)"
   ]
  },
  {
   "cell_type": "code",
   "execution_count": 10,
   "metadata": {},
   "outputs": [
    {
     "data": {
      "text/html": [
       "<table>\n",
       "<thead><tr><th></th><th scope=col>Sepal.Length</th><th scope=col>Petal.Length</th></tr></thead>\n",
       "<tbody>\n",
       "\t<tr><th scope=row>1</th><td>5.1</td><td>1.4</td></tr>\n",
       "\t<tr><th scope=row>2</th><td>4.9</td><td>1.4</td></tr>\n",
       "\t<tr><th scope=row>3</th><td>4.7</td><td>1.3</td></tr>\n",
       "\t<tr><th scope=row>4</th><td>4.6</td><td>1.5</td></tr>\n",
       "\t<tr><th scope=row>5</th><td>5</td><td>1.4</td></tr>\n",
       "\t<tr><th scope=row>6</th><td>5.4</td><td>1.7</td></tr>\n",
       "</tbody>\n",
       "</table>\n"
      ],
      "text/latex": [
       "\\begin{tabular}{r|ll}\n",
       "  & Sepal.Length & Petal.Length\\\\\n",
       "\\hline\n",
       "\t1 & 5.1 & 1.4\\\\\n",
       "\t2 & 4.9 & 1.4\\\\\n",
       "\t3 & 4.7 & 1.3\\\\\n",
       "\t4 & 4.6 & 1.5\\\\\n",
       "\t5 & 5 & 1.4\\\\\n",
       "\t6 & 5.4 & 1.7\\\\\n",
       "\\end{tabular}\n"
      ],
      "text/plain": [
       "  Sepal.Length Petal.Length\n",
       "1          5.1          1.4\n",
       "2          4.9          1.4\n",
       "3          4.7          1.3\n",
       "4          4.6          1.5\n",
       "5          5.0          1.4\n",
       "6          5.4          1.7"
      ]
     },
     "execution_count": 10,
     "metadata": {},
     "output_type": "execute_result"
    }
   ],
   "source": [
    "#select- to select specifc columns in df\n",
    "head(dplyr::select(iris,Sepal.Length,Petal.Length))"
   ]
  },
  {
   "cell_type": "code",
   "execution_count": 13,
   "metadata": {},
   "outputs": [
    {
     "data": {
      "text/html": [
       "<table>\n",
       "<thead><tr><th></th><th scope=col>Sepal.Length</th><th scope=col>Sepal.Width</th><th scope=col>Petal.Length</th><th scope=col>Petal.Width</th><th scope=col>Species</th></tr></thead>\n",
       "<tbody>\n",
       "\t<tr><th scope=row>1</th><td>4.3</td><td>3</td><td>1.1</td><td>0.1</td><td>setosa</td></tr>\n",
       "\t<tr><th scope=row>2</th><td>4.4</td><td>2.9</td><td>1.4</td><td>0.2</td><td>setosa</td></tr>\n",
       "\t<tr><th scope=row>3</th><td>4.4</td><td>3</td><td>1.3</td><td>0.2</td><td>setosa</td></tr>\n",
       "\t<tr><th scope=row>4</th><td>4.4</td><td>3.2</td><td>1.3</td><td>0.2</td><td>setosa</td></tr>\n",
       "\t<tr><th scope=row>5</th><td>4.5</td><td>2.3</td><td>1.3</td><td>0.3</td><td>setosa</td></tr>\n",
       "\t<tr><th scope=row>6</th><td>4.6</td><td>3.1</td><td>1.5</td><td>0.2</td><td>setosa</td></tr>\n",
       "</tbody>\n",
       "</table>\n"
      ],
      "text/latex": [
       "\\begin{tabular}{r|lllll}\n",
       "  & Sepal.Length & Sepal.Width & Petal.Length & Petal.Width & Species\\\\\n",
       "\\hline\n",
       "\t1 & 4.3 & 3 & 1.1 & 0.1 & setosa\\\\\n",
       "\t2 & 4.4 & 2.9 & 1.4 & 0.2 & setosa\\\\\n",
       "\t3 & 4.4 & 3 & 1.3 & 0.2 & setosa\\\\\n",
       "\t4 & 4.4 & 3.2 & 1.3 & 0.2 & setosa\\\\\n",
       "\t5 & 4.5 & 2.3 & 1.3 & 0.3 & setosa\\\\\n",
       "\t6 & 4.6 & 3.1 & 1.5 & 0.2 & setosa\\\\\n",
       "\\end{tabular}\n"
      ],
      "text/plain": [
       "  Sepal.Length Sepal.Width Petal.Length Petal.Width Species\n",
       "1          4.3         3.0          1.1         0.1  setosa\n",
       "2          4.4         2.9          1.4         0.2  setosa\n",
       "3          4.4         3.0          1.3         0.2  setosa\n",
       "4          4.4         3.2          1.3         0.2  setosa\n",
       "5          4.5         2.3          1.3         0.3  setosa\n",
       "6          4.6         3.1          1.5         0.2  setosa"
      ]
     },
     "execution_count": 13,
     "metadata": {},
     "output_type": "execute_result"
    }
   ],
   "source": [
    "#arrange -  arrange values in column either ascending or descending order\n",
    "head(dplyr::arrange(iris,Sepal.Length))  #incresing order "
   ]
  },
  {
   "cell_type": "code",
   "execution_count": 14,
   "metadata": {},
   "outputs": [
    {
     "data": {
      "text/html": [
       "<table>\n",
       "<thead><tr><th></th><th scope=col>Sepal.Length</th><th scope=col>Sepal.Width</th><th scope=col>Petal.Length</th><th scope=col>Petal.Width</th><th scope=col>Species</th></tr></thead>\n",
       "<tbody>\n",
       "\t<tr><th scope=row>1</th><td>7.9</td><td>3.8</td><td>6.4</td><td>2</td><td>virginica</td></tr>\n",
       "\t<tr><th scope=row>2</th><td>7.7</td><td>3.8</td><td>6.7</td><td>2.2</td><td>virginica</td></tr>\n",
       "\t<tr><th scope=row>3</th><td>7.7</td><td>2.6</td><td>6.9</td><td>2.3</td><td>virginica</td></tr>\n",
       "\t<tr><th scope=row>4</th><td>7.7</td><td>2.8</td><td>6.7</td><td>2</td><td>virginica</td></tr>\n",
       "\t<tr><th scope=row>5</th><td>7.7</td><td>3</td><td>6.1</td><td>2.3</td><td>virginica</td></tr>\n",
       "\t<tr><th scope=row>6</th><td>7.6</td><td>3</td><td>6.6</td><td>2.1</td><td>virginica</td></tr>\n",
       "</tbody>\n",
       "</table>\n"
      ],
      "text/latex": [
       "\\begin{tabular}{r|lllll}\n",
       "  & Sepal.Length & Sepal.Width & Petal.Length & Petal.Width & Species\\\\\n",
       "\\hline\n",
       "\t1 & 7.9 & 3.8 & 6.4 & 2 & virginica\\\\\n",
       "\t2 & 7.7 & 3.8 & 6.7 & 2.2 & virginica\\\\\n",
       "\t3 & 7.7 & 2.6 & 6.9 & 2.3 & virginica\\\\\n",
       "\t4 & 7.7 & 2.8 & 6.7 & 2 & virginica\\\\\n",
       "\t5 & 7.7 & 3 & 6.1 & 2.3 & virginica\\\\\n",
       "\t6 & 7.6 & 3 & 6.6 & 2.1 & virginica\\\\\n",
       "\\end{tabular}\n"
      ],
      "text/plain": [
       "  Sepal.Length Sepal.Width Petal.Length Petal.Width   Species\n",
       "1          7.9         3.8          6.4         2.0 virginica\n",
       "2          7.7         3.8          6.7         2.2 virginica\n",
       "3          7.7         2.6          6.9         2.3 virginica\n",
       "4          7.7         2.8          6.7         2.0 virginica\n",
       "5          7.7         3.0          6.1         2.3 virginica\n",
       "6          7.6         3.0          6.6         2.1 virginica"
      ]
     },
     "execution_count": 14,
     "metadata": {},
     "output_type": "execute_result"
    }
   ],
   "source": [
    "head(dplyr::arrange(iris,desc(Sepal.Length)))    #decreasing order"
   ]
  },
  {
   "cell_type": "code",
   "execution_count": 19,
   "metadata": {},
   "outputs": [
    {
     "data": {
      "text/html": [
       "<table>\n",
       "<thead><tr><th></th><th scope=col>iris.Species</th></tr></thead>\n",
       "<tbody>\n",
       "\t<tr><th scope=row>1</th><td>setosa</td></tr>\n",
       "\t<tr><th scope=row>2</th><td>versicolor</td></tr>\n",
       "\t<tr><th scope=row>3</th><td>virginica</td></tr>\n",
       "</tbody>\n",
       "</table>\n"
      ],
      "text/latex": [
       "\\begin{tabular}{r|l}\n",
       "  & iris.Species\\\\\n",
       "\\hline\n",
       "\t1 & setosa\\\\\n",
       "\t2 & versicolor\\\\\n",
       "\t3 & virginica\\\\\n",
       "\\end{tabular}\n"
      ],
      "text/plain": [
       "  iris.Species\n",
       "1       setosa\n",
       "2   versicolor\n",
       "3    virginica"
      ]
     },
     "execution_count": 19,
     "metadata": {},
     "output_type": "execute_result"
    },
    {
     "data": {
      "text/html": [
       "<table>\n",
       "<thead><tr><th></th><th scope=col>Species</th></tr></thead>\n",
       "<tbody>\n",
       "\t<tr><th scope=row>1</th><td>setosa</td></tr>\n",
       "\t<tr><th scope=row>2</th><td>versicolor</td></tr>\n",
       "\t<tr><th scope=row>3</th><td>virginica</td></tr>\n",
       "</tbody>\n",
       "</table>\n"
      ],
      "text/latex": [
       "\\begin{tabular}{r|l}\n",
       "  & Species\\\\\n",
       "\\hline\n",
       "\t1 & setosa\\\\\n",
       "\t2 & versicolor\\\\\n",
       "\t3 & virginica\\\\\n",
       "\\end{tabular}\n"
      ],
      "text/plain": [
       "     Species\n",
       "1     setosa\n",
       "2 versicolor\n",
       "3  virginica"
      ]
     },
     "execution_count": 19,
     "metadata": {},
     "output_type": "execute_result"
    }
   ],
   "source": [
    "#distinct - return unique values of dataframe\n",
    "dplyr::distinct(data.frame(iris$Species))\n",
    "dplyr::distinct(dplyr::select(iris,Species))       #both same out_put"
   ]
  },
  {
   "cell_type": "code",
   "execution_count": 23,
   "metadata": {},
   "outputs": [
    {
     "data": {
      "text/html": [
       "<table>\n",
       "<thead><tr><th></th><th scope=col>Sepal.Length</th><th scope=col>Sepal.Width</th><th scope=col>Petal.Length</th><th scope=col>Petal.Width</th><th scope=col>Species</th><th scope=col>petal_length_width</th></tr></thead>\n",
       "<tbody>\n",
       "\t<tr><th scope=row>1</th><td>5.1</td><td>3.5</td><td>1.4</td><td>0.2</td><td>setosa</td><td>1.6</td></tr>\n",
       "\t<tr><th scope=row>2</th><td>4.9</td><td>3</td><td>1.4</td><td>0.2</td><td>setosa</td><td>1.6</td></tr>\n",
       "\t<tr><th scope=row>3</th><td>4.7</td><td>3.2</td><td>1.3</td><td>0.2</td><td>setosa</td><td>1.5</td></tr>\n",
       "\t<tr><th scope=row>4</th><td>4.6</td><td>3.1</td><td>1.5</td><td>0.2</td><td>setosa</td><td>1.7</td></tr>\n",
       "\t<tr><th scope=row>5</th><td>5</td><td>3.6</td><td>1.4</td><td>0.2</td><td>setosa</td><td>1.6</td></tr>\n",
       "\t<tr><th scope=row>6</th><td>5.4</td><td>3.9</td><td>1.7</td><td>0.4</td><td>setosa</td><td>2.1</td></tr>\n",
       "</tbody>\n",
       "</table>\n"
      ],
      "text/latex": [
       "\\begin{tabular}{r|llllll}\n",
       "  & Sepal.Length & Sepal.Width & Petal.Length & Petal.Width & Species & petal_length_width\\\\\n",
       "\\hline\n",
       "\t1 & 5.1 & 3.5 & 1.4 & 0.2 & setosa & 1.6\\\\\n",
       "\t2 & 4.9 & 3 & 1.4 & 0.2 & setosa & 1.6\\\\\n",
       "\t3 & 4.7 & 3.2 & 1.3 & 0.2 & setosa & 1.5\\\\\n",
       "\t4 & 4.6 & 3.1 & 1.5 & 0.2 & setosa & 1.7\\\\\n",
       "\t5 & 5 & 3.6 & 1.4 & 0.2 & setosa & 1.6\\\\\n",
       "\t6 & 5.4 & 3.9 & 1.7 & 0.4 & setosa & 2.1\\\\\n",
       "\\end{tabular}\n"
      ],
      "text/plain": [
       "  Sepal.Length Sepal.Width Petal.Length Petal.Width Species petal_length_width\n",
       "1          5.1         3.5          1.4         0.2  setosa                1.6\n",
       "2          4.9         3.0          1.4         0.2  setosa                1.6\n",
       "3          4.7         3.2          1.3         0.2  setosa                1.5\n",
       "4          4.6         3.1          1.5         0.2  setosa                1.7\n",
       "5          5.0         3.6          1.4         0.2  setosa                1.6\n",
       "6          5.4         3.9          1.7         0.4  setosa                2.1"
      ]
     },
     "execution_count": 23,
     "metadata": {},
     "output_type": "execute_result"
    }
   ],
   "source": [
    "#Mutate - creat new column by doing mathmatical operation between two column\n",
    "head(dplyr::mutate(iris,petal_length_width=iris$Petal.Length+iris$Petal.Width))"
   ]
  },
  {
   "cell_type": "code",
   "execution_count": 22,
   "metadata": {},
   "outputs": [
    {
     "data": {
      "text/html": [
       "<table>\n",
       "<thead><tr><th></th><th scope=col>petal_length_width</th></tr></thead>\n",
       "<tbody>\n",
       "\t<tr><th scope=row>1</th><td>1.6</td></tr>\n",
       "\t<tr><th scope=row>2</th><td>1.6</td></tr>\n",
       "\t<tr><th scope=row>3</th><td>1.5</td></tr>\n",
       "\t<tr><th scope=row>4</th><td>1.7</td></tr>\n",
       "\t<tr><th scope=row>5</th><td>1.6</td></tr>\n",
       "\t<tr><th scope=row>6</th><td>2.1</td></tr>\n",
       "</tbody>\n",
       "</table>\n"
      ],
      "text/latex": [
       "\\begin{tabular}{r|l}\n",
       "  & petal_length_width\\\\\n",
       "\\hline\n",
       "\t1 & 1.6\\\\\n",
       "\t2 & 1.6\\\\\n",
       "\t3 & 1.5\\\\\n",
       "\t4 & 1.7\\\\\n",
       "\t5 & 1.6\\\\\n",
       "\t6 & 2.1\\\\\n",
       "\\end{tabular}\n"
      ],
      "text/plain": [
       "  petal_length_width\n",
       "1                1.6\n",
       "2                1.6\n",
       "3                1.5\n",
       "4                1.7\n",
       "5                1.6\n",
       "6                2.1"
      ]
     },
     "execution_count": 22,
     "metadata": {},
     "output_type": "execute_result"
    }
   ],
   "source": [
    "head(transmute(iris,petal_length_width=iris$Petal.Length+iris$Petal.Width))  #will show only newly created column"
   ]
  },
  {
   "cell_type": "markdown",
   "metadata": {},
   "source": [
    "# pipe-operator"
   ]
  },
  {
   "cell_type": "code",
   "execution_count": 35,
   "metadata": {},
   "outputs": [
    {
     "name": "stdout",
     "output_type": "stream",
     "text": [
      "   Sepal.Length Sepal.Width Petal.Length Petal.Width    Species\n",
      "1           6.3         2.3          4.4         1.3 versicolor\n",
      "2           5.8         2.7          3.9         1.2 versicolor\n",
      "3           6.3         2.8          5.1         1.5  virginica\n",
      "4           5.4         3.0          4.5         1.5 versicolor\n",
      "5           6.8         3.2          5.9         2.3  virginica\n",
      "6           6.2         3.4          5.4         2.3  virginica\n",
      "7           5.2         3.5          1.5         0.2     setosa\n",
      "8           5.4         3.7          1.5         0.2     setosa\n",
      "9           5.4         3.9          1.3         0.4     setosa\n",
      "10          5.8         4.0          1.2         0.2     setosa\n"
     ]
    }
   ],
   "source": [
    "df=iris\n",
    "a<-dplyr::filter(df,df$Sepal.Length>5)\n",
    "b<-dplyr::sample_n(a,10)\n",
    "c<-dplyr::arrange(b,Sepal.Width)\n",
    "print(c)  "
   ]
  },
  {
   "cell_type": "code",
   "execution_count": 43,
   "metadata": {},
   "outputs": [
    {
     "name": "stdout",
     "output_type": "stream",
     "text": [
      "   Sepal.Length Sepal.Width Petal.Length Petal.Width    Species\n",
      "1           5.2         4.1          1.5         0.1     setosa\n",
      "2           5.1         3.4          1.5         0.2     setosa\n",
      "3           5.5         2.4          3.7         1.0 versicolor\n",
      "4           6.1         2.6          5.6         1.4  virginica\n",
      "5           6.2         2.8          4.8         1.8  virginica\n",
      "6           7.3         2.9          6.3         1.8  virginica\n",
      "7           5.8         2.7          5.1         1.9  virginica\n",
      "8           7.4         2.8          6.1         1.9  virginica\n",
      "9           5.7         2.5          5.0         2.0  virginica\n",
      "10          7.2         3.6          6.1         2.5  virginica\n"
     ]
    }
   ],
   "source": [
    "#result published can be done in 1 line using pipe operatior with out using more memories\n",
    "result<- df %>% filter(df$Sepal.Length>5)%>% sample_n(10) %>% arrange(Petal.Width)\n",
    "print(result)"
   ]
  },
  {
   "cell_type": "code",
   "execution_count": null,
   "metadata": {},
   "outputs": [],
   "source": [
    "gather spread separate unite "
   ]
  },
  {
   "cell_type": "code",
   "execution_count": 45,
   "metadata": {},
   "outputs": [],
   "source": [
    "library(tidyr)"
   ]
  },
  {
   "cell_type": "code",
   "execution_count": 60,
   "metadata": {},
   "outputs": [
    {
     "data": {
      "text/html": [
       "<table>\n",
       "<thead><tr><th></th><th scope=col>length</th><th scope=col>width</th><th scope=col>plength</th></tr></thead>\n",
       "<tbody>\n",
       "\t<tr><th scope=row>1</th><td>5.1</td><td>3.5</td><td>1.4</td></tr>\n",
       "\t<tr><th scope=row>2</th><td>4.9</td><td>3</td><td>1.4</td></tr>\n",
       "\t<tr><th scope=row>3</th><td>4.7</td><td>3.2</td><td>1.3</td></tr>\n",
       "\t<tr><th scope=row>4</th><td>4.6</td><td>3.1</td><td>1.5</td></tr>\n",
       "\t<tr><th scope=row>5</th><td>5</td><td>3.6</td><td>1.4</td></tr>\n",
       "\t<tr><th scope=row>6</th><td>5.4</td><td>3.9</td><td>1.7</td></tr>\n",
       "</tbody>\n",
       "</table>\n"
      ],
      "text/latex": [
       "\\begin{tabular}{r|lll}\n",
       "  & length & width & plength\\\\\n",
       "\\hline\n",
       "\t1 & 5.1 & 3.5 & 1.4\\\\\n",
       "\t2 & 4.9 & 3 & 1.4\\\\\n",
       "\t3 & 4.7 & 3.2 & 1.3\\\\\n",
       "\t4 & 4.6 & 3.1 & 1.5\\\\\n",
       "\t5 & 5 & 3.6 & 1.4\\\\\n",
       "\t6 & 5.4 & 3.9 & 1.7\\\\\n",
       "\\end{tabular}\n"
      ],
      "text/plain": [
       "  length width plength\n",
       "1    5.1   3.5     1.4\n",
       "2    4.9   3.0     1.4\n",
       "3    4.7   3.2     1.3\n",
       "4    4.6   3.1     1.5\n",
       "5    5.0   3.6     1.4\n",
       "6    5.4   3.9     1.7"
      ]
     },
     "execution_count": 60,
     "metadata": {},
     "output_type": "execute_result"
    }
   ],
   "source": [
    "df<- iris[1:6,1:3]\n",
    "colnames(df)<-c('length','width','plength')\n",
    "df"
   ]
  },
  {
   "cell_type": "code",
   "execution_count": 61,
   "metadata": {},
   "outputs": [
    {
     "data": {
      "text/html": [
       "<table>\n",
       "<thead><tr><th></th><th scope=col>plength</th><th scope=col>parameter</th><th scope=col>incm</th></tr></thead>\n",
       "<tbody>\n",
       "\t<tr><th scope=row>1</th><td>1.4</td><td>length</td><td>5.1</td></tr>\n",
       "\t<tr><th scope=row>2</th><td>1.4</td><td>length</td><td>4.9</td></tr>\n",
       "\t<tr><th scope=row>3</th><td>1.3</td><td>length</td><td>4.7</td></tr>\n",
       "\t<tr><th scope=row>4</th><td>1.5</td><td>length</td><td>4.6</td></tr>\n",
       "\t<tr><th scope=row>5</th><td>1.4</td><td>length</td><td>5</td></tr>\n",
       "\t<tr><th scope=row>6</th><td>1.7</td><td>length</td><td>5.4</td></tr>\n",
       "\t<tr><th scope=row>7</th><td>1.4</td><td>width</td><td>3.5</td></tr>\n",
       "\t<tr><th scope=row>8</th><td>1.4</td><td>width</td><td>3</td></tr>\n",
       "\t<tr><th scope=row>9</th><td>1.3</td><td>width</td><td>3.2</td></tr>\n",
       "\t<tr><th scope=row>10</th><td>1.5</td><td>width</td><td>3.1</td></tr>\n",
       "\t<tr><th scope=row>11</th><td>1.4</td><td>width</td><td>3.6</td></tr>\n",
       "\t<tr><th scope=row>12</th><td>1.7</td><td>width</td><td>3.9</td></tr>\n",
       "</tbody>\n",
       "</table>\n"
      ],
      "text/latex": [
       "\\begin{tabular}{r|lll}\n",
       "  & plength & parameter & incm\\\\\n",
       "\\hline\n",
       "\t1 & 1.4 & length & 5.1\\\\\n",
       "\t2 & 1.4 & length & 4.9\\\\\n",
       "\t3 & 1.3 & length & 4.7\\\\\n",
       "\t4 & 1.5 & length & 4.6\\\\\n",
       "\t5 & 1.4 & length & 5\\\\\n",
       "\t6 & 1.7 & length & 5.4\\\\\n",
       "\t7 & 1.4 & width & 3.5\\\\\n",
       "\t8 & 1.4 & width & 3\\\\\n",
       "\t9 & 1.3 & width & 3.2\\\\\n",
       "\t10 & 1.5 & width & 3.1\\\\\n",
       "\t11 & 1.4 & width & 3.6\\\\\n",
       "\t12 & 1.7 & width & 3.9\\\\\n",
       "\\end{tabular}\n"
      ],
      "text/plain": [
       "   plength parameter incm\n",
       "1      1.4    length  5.1\n",
       "2      1.4    length  4.9\n",
       "3      1.3    length  4.7\n",
       "4      1.5    length  4.6\n",
       "5      1.4    length  5.0\n",
       "6      1.7    length  5.4\n",
       "7      1.4     width  3.5\n",
       "8      1.4     width  3.0\n",
       "9      1.3     width  3.2\n",
       "10     1.5     width  3.1\n",
       "11     1.4     width  3.6\n",
       "12     1.7     width  3.9"
      ]
     },
     "execution_count": 61,
     "metadata": {},
     "output_type": "execute_result"
    }
   ],
   "source": [
    "#gather-  convert the colname into row helps in comparative analysis\n",
    "df_gather<-tidyr::gather(df,parameter,incm,length,width)   #gather(data,new_colname_1,new_colname_2,columns)\n",
    "df_gather"
   ]
  },
  {
   "cell_type": "code",
   "execution_count": 62,
   "metadata": {},
   "outputs": [
    {
     "ename": "ERROR",
     "evalue": "Error: Duplicate identifiers for rows (1, 2, 5), (7, 8, 11)\n",
     "output_type": "error",
     "traceback": [
      "Error: Duplicate identifiers for rows (1, 2, 5), (7, 8, 11)\n"
     ]
    },
    {
     "data": {
      "text/html": [
       "<table>\n",
       "<thead><tr><th></th><th scope=col>length</th><th scope=col>width</th></tr></thead>\n",
       "<tbody>\n",
       "\t<tr><th scope=row>1</th><td>5.1</td><td>NA</td></tr>\n",
       "\t<tr><th scope=row>2</th><td>4.9</td><td>NA</td></tr>\n",
       "\t<tr><th scope=row>3</th><td>4.7</td><td>NA</td></tr>\n",
       "\t<tr><th scope=row>4</th><td>4.6</td><td>NA</td></tr>\n",
       "\t<tr><th scope=row>5</th><td>5</td><td>NA</td></tr>\n",
       "\t<tr><th scope=row>6</th><td>5.4</td><td>NA</td></tr>\n",
       "\t<tr><th scope=row>7</th><td>NA</td><td>3.5</td></tr>\n",
       "\t<tr><th scope=row>8</th><td>NA</td><td>3</td></tr>\n",
       "\t<tr><th scope=row>9</th><td>NA</td><td>3.2</td></tr>\n",
       "\t<tr><th scope=row>10</th><td>NA</td><td>3.1</td></tr>\n",
       "\t<tr><th scope=row>11</th><td>NA</td><td>3.6</td></tr>\n",
       "\t<tr><th scope=row>12</th><td>NA</td><td>3.9</td></tr>\n",
       "</tbody>\n",
       "</table>\n"
      ],
      "text/latex": [
       "\\begin{tabular}{r|ll}\n",
       "  & length & width\\\\\n",
       "\\hline\n",
       "\t1 & 5.1 & NA\\\\\n",
       "\t2 & 4.9 & NA\\\\\n",
       "\t3 & 4.7 & NA\\\\\n",
       "\t4 & 4.6 & NA\\\\\n",
       "\t5 & 5 & NA\\\\\n",
       "\t6 & 5.4 & NA\\\\\n",
       "\t7 & NA & 3.5\\\\\n",
       "\t8 & NA & 3\\\\\n",
       "\t9 & NA & 3.2\\\\\n",
       "\t10 & NA & 3.1\\\\\n",
       "\t11 & NA & 3.6\\\\\n",
       "\t12 & NA & 3.9\\\\\n",
       "\\end{tabular}\n"
      ],
      "text/plain": [
       "   length width\n",
       "1     5.1    NA\n",
       "2     4.9    NA\n",
       "3     4.7    NA\n",
       "4     4.6    NA\n",
       "5     5.0    NA\n",
       "6     5.4    NA\n",
       "7      NA   3.5\n",
       "8      NA   3.0\n",
       "9      NA   3.2\n",
       "10     NA   3.1\n",
       "11     NA   3.6\n",
       "12     NA   3.9"
      ]
     },
     "execution_count": 62,
     "metadata": {},
     "output_type": "execute_result"
    }
   ],
   "source": [
    "#spread - opposite of gather\n",
    "df_spread<-tidyr::spread(df_gather,parameter,incm)\n",
    "df_spread"
   ]
  },
  {
   "cell_type": "code",
   "execution_count": 67,
   "metadata": {},
   "outputs": [],
   "source": [
    "#separate - separate a column on the basis of regular expression\n",
    "df<-data.frame(dt=c('a-3','b-5','h-8'))"
   ]
  },
  {
   "cell_type": "code",
   "execution_count": 68,
   "metadata": {},
   "outputs": [
    {
     "data": {
      "text/html": [
       "<table>\n",
       "<thead><tr><th></th><th scope=col>dt</th></tr></thead>\n",
       "<tbody>\n",
       "\t<tr><th scope=row>1</th><td>a-3</td></tr>\n",
       "\t<tr><th scope=row>2</th><td>b-5</td></tr>\n",
       "\t<tr><th scope=row>3</th><td>h-8</td></tr>\n",
       "</tbody>\n",
       "</table>\n"
      ],
      "text/latex": [
       "\\begin{tabular}{r|l}\n",
       "  & dt\\\\\n",
       "\\hline\n",
       "\t1 & a-3\\\\\n",
       "\t2 & b-5\\\\\n",
       "\t3 & h-8\\\\\n",
       "\\end{tabular}\n"
      ],
      "text/plain": [
       "   dt\n",
       "1 a-3\n",
       "2 b-5\n",
       "3 h-8"
      ]
     },
     "execution_count": 68,
     "metadata": {},
     "output_type": "execute_result"
    }
   ],
   "source": [
    "df"
   ]
  },
  {
   "cell_type": "code",
   "execution_count": null,
   "metadata": {},
   "outputs": [],
   "source": [
    "tidyr::separate(df,dt,into=c('letter','number'))"
   ]
  },
  {
   "cell_type": "code",
   "execution_count": 70,
   "metadata": {},
   "outputs": [
    {
     "data": {
      "text/html": [
       "\n",
       "<table width=\"100%\" summary=\"page for separate {tidyr}\"><tr><td>separate {tidyr}</td><td style=\"text-align: right;\">R Documentation</td></tr></table>\n",
       "\n",
       "<h2>Separate one column into multiple columns.</h2>\n",
       "\n",
       "<h3>Description</h3>\n",
       "\n",
       "<p>Given either regular expression or a vector of character positions,\n",
       "<code>separate()</code> turns a single character column into multiple columns.\n",
       "</p>\n",
       "\n",
       "\n",
       "<h3>Usage</h3>\n",
       "\n",
       "<pre>\n",
       "separate(data, col, into, sep = \"[^[:alnum:]]+\", remove = TRUE,\n",
       "  convert = FALSE, extra = \"warn\", fill = \"warn\", ...)\n",
       "</pre>\n",
       "\n",
       "\n",
       "<h3>Arguments</h3>\n",
       "\n",
       "<table summary=\"R argblock\">\n",
       "<tr valign=\"top\"><td><code>data</code></td>\n",
       "<td>\n",
       "<p>A data frame.</p>\n",
       "</td></tr>\n",
       "<tr valign=\"top\"><td><code>col</code></td>\n",
       "<td>\n",
       "<p>Bare column name.</p>\n",
       "</td></tr>\n",
       "<tr valign=\"top\"><td><code>into</code></td>\n",
       "<td>\n",
       "<p>Names of new variables to create as character vector.</p>\n",
       "</td></tr>\n",
       "<tr valign=\"top\"><td><code>sep</code></td>\n",
       "<td>\n",
       "<p>Separator between columns.\n",
       "</p>\n",
       "<p>If character, is interpreted as a regular expression. The default\n",
       "value is a regular expression that matches any sequence of\n",
       "non-alphanumeric values.\n",
       "</p>\n",
       "<p>If numeric, interpreted as positions to split at. Positive values start\n",
       "at 1 at the far-left of the string; negative value start at -1 at the\n",
       "far-right of the string. The length of <code>sep</code> should be one less than\n",
       "<code>into</code>.</p>\n",
       "</td></tr>\n",
       "<tr valign=\"top\"><td><code>remove</code></td>\n",
       "<td>\n",
       "<p>If <code>TRUE</code>, remove input column from output data frame.</p>\n",
       "</td></tr>\n",
       "<tr valign=\"top\"><td><code>convert</code></td>\n",
       "<td>\n",
       "<p>If <code>TRUE</code>, will run <code>type.convert</code> with\n",
       "<code>as.is = TRUE</code> on new columns. This is useful if the component\n",
       "columns are integer, numeric or logical.</p>\n",
       "</td></tr>\n",
       "<tr valign=\"top\"><td><code>extra</code></td>\n",
       "<td>\n",
       "<p>If <code>sep</code> is a character vector, this controls what\n",
       "happens when there are too many pieces. There are three valid options:\n",
       "</p>\n",
       "\n",
       "<ul>\n",
       "<li><p> &quot;warn&quot; (the default): emit a waring and drop extra values.\n",
       "</p>\n",
       "</li>\n",
       "<li><p> &quot;drop&quot;: drop any extra values without a warning.\n",
       "</p>\n",
       "</li>\n",
       "<li><p> &quot;merge&quot;: only splits at most <code>length(into)</code> times\n",
       "</p>\n",
       "</li></ul>\n",
       "</td></tr>\n",
       "<tr valign=\"top\"><td><code>fill</code></td>\n",
       "<td>\n",
       "<p>If <code>sep</code> is a character vector, this controls what\n",
       "happens when there are not enough pieces. There are three valid options:\n",
       "</p>\n",
       "\n",
       "<ul>\n",
       "<li><p> &quot;warn&quot; (the default): emit a waring and fill from the right\n",
       "</p>\n",
       "</li>\n",
       "<li><p> &quot;right&quot;: fill with missing values on the right\n",
       "</p>\n",
       "</li>\n",
       "<li><p> &quot;left&quot;: fill with missing values on the left\n",
       "</p>\n",
       "</li></ul>\n",
       "</td></tr>\n",
       "<tr valign=\"top\"><td><code>...</code></td>\n",
       "<td>\n",
       "<p>Other arguments passed on to <code>strsplit</code> to control\n",
       "how the regular expression is processed.</p>\n",
       "</td></tr>\n",
       "</table>\n",
       "\n",
       "\n",
       "<h3>Examples</h3>\n",
       "\n",
       "<pre>\n",
       "library(dplyr)\n",
       "df &lt;- data.frame(x = c(NA, \"a.b\", \"a.d\", \"b.c\"))\n",
       "df %&gt;% separate(x, c(\"A\", \"B\"))\n",
       "\n",
       "# If every row doesn't split into the same number of pieces, use\n",
       "# the extra and file arguments to control what happens\n",
       "df &lt;- data.frame(x = c(\"a\", \"a b\", \"a b c\", NA))\n",
       "df %&gt;% separate(x, c(\"a\", \"b\"))\n",
       "# The same behaviour but no warnings\n",
       "df %&gt;% separate(x, c(\"a\", \"b\"), extra = \"drop\", fill = \"right\")\n",
       "# Another option:\n",
       "df %&gt;% separate(x, c(\"a\", \"b\"), extra = \"merge\", fill = \"left\")\n",
       "\n",
       "# If only want to split specified number of times use extra = \"merge\"\n",
       "df &lt;- data.frame(x = c(\"x: 123\", \"y: error: 7\"))\n",
       "df %&gt;% separate(x, c(\"key\", \"value\"), \": \", extra = \"merge\")\n",
       "</pre>\n",
       "\n",
       "<hr /><div style=\"text-align: center;\">[Package <em>tidyr</em> version 0.3.1 ]</div>"
      ],
      "text/latex": [
       "\\inputencoding{utf8}\n",
       "\\HeaderA{separate}{Separate one column into multiple columns.}{separate}\n",
       "%\n",
       "\\begin{Description}\\relax\n",
       "Given either regular expression or a vector of character positions,\n",
       "\\code{separate()} turns a single character column into multiple columns.\n",
       "\\end{Description}\n",
       "%\n",
       "\\begin{Usage}\n",
       "\\begin{verbatim}\n",
       "separate(data, col, into, sep = \"[^[:alnum:]]+\", remove = TRUE,\n",
       "  convert = FALSE, extra = \"warn\", fill = \"warn\", ...)\n",
       "\\end{verbatim}\n",
       "\\end{Usage}\n",
       "%\n",
       "\\begin{Arguments}\n",
       "\\begin{ldescription}\n",
       "\\item[\\code{data}] A data frame.\n",
       "\n",
       "\\item[\\code{col}] Bare column name.\n",
       "\n",
       "\\item[\\code{into}] Names of new variables to create as character vector.\n",
       "\n",
       "\\item[\\code{sep}] Separator between columns.\n",
       "\n",
       "If character, is interpreted as a regular expression. The default\n",
       "value is a regular expression that matches any sequence of\n",
       "non-alphanumeric values.\n",
       "\n",
       "If numeric, interpreted as positions to split at. Positive values start\n",
       "at 1 at the far-left of the string; negative value start at -1 at the\n",
       "far-right of the string. The length of \\code{sep} should be one less than\n",
       "\\code{into}.\n",
       "\n",
       "\\item[\\code{remove}] If \\code{TRUE}, remove input column from output data frame.\n",
       "\n",
       "\\item[\\code{convert}] If \\code{TRUE}, will run \\code{\\LinkA{type.convert}{type.convert}} with\n",
       "\\code{as.is = TRUE} on new columns. This is useful if the component\n",
       "columns are integer, numeric or logical.\n",
       "\n",
       "\\item[\\code{extra}] If \\code{sep} is a character vector, this controls what\n",
       "happens when there are too many pieces. There are three valid options:\n",
       "\n",
       "\\begin{itemize}\n",
       "\n",
       "\\item \"warn\" (the default): emit a waring and drop extra values.\n",
       "\\item \"drop\": drop any extra values without a warning.\n",
       "\\item \"merge\": only splits at most \\code{length(into)} times\n",
       "\n",
       "\\end{itemize}\n",
       "\n",
       "\n",
       "\\item[\\code{fill}] If \\code{sep} is a character vector, this controls what\n",
       "happens when there are not enough pieces. There are three valid options:\n",
       "\n",
       "\\begin{itemize}\n",
       "\n",
       "\\item \"warn\" (the default): emit a waring and fill from the right\n",
       "\\item \"right\": fill with missing values on the right\n",
       "\\item \"left\": fill with missing values on the left\n",
       "\n",
       "\\end{itemize}\n",
       "\n",
       "\n",
       "\\item[\\code{...}] Other arguments passed on to \\code{\\LinkA{strsplit}{strsplit}} to control\n",
       "how the regular expression is processed.\n",
       "\\end{ldescription}\n",
       "\\end{Arguments}\n",
       "%\n",
       "\\begin{Examples}\n",
       "\\begin{ExampleCode}\n",
       "library(dplyr)\n",
       "df <- data.frame(x = c(NA, \"a.b\", \"a.d\", \"b.c\"))\n",
       "df %>% separate(x, c(\"A\", \"B\"))\n",
       "\n",
       "# If every row doesn't split into the same number of pieces, use\n",
       "# the extra and file arguments to control what happens\n",
       "df <- data.frame(x = c(\"a\", \"a b\", \"a b c\", NA))\n",
       "df %>% separate(x, c(\"a\", \"b\"))\n",
       "# The same behaviour but no warnings\n",
       "df %>% separate(x, c(\"a\", \"b\"), extra = \"drop\", fill = \"right\")\n",
       "# Another option:\n",
       "df %>% separate(x, c(\"a\", \"b\"), extra = \"merge\", fill = \"left\")\n",
       "\n",
       "# If only want to split specified number of times use extra = \"merge\"\n",
       "df <- data.frame(x = c(\"x: 123\", \"y: error: 7\"))\n",
       "df %>% separate(x, c(\"key\", \"value\"), \": \", extra = \"merge\")\n",
       "\\end{ExampleCode}\n",
       "\\end{Examples}"
      ],
      "text/plain": [
       "separate                 package:tidyr                 R Documentation\n",
       "\n",
       "_\bS_\be_\bp_\ba_\br_\ba_\bt_\be _\bo_\bn_\be _\bc_\bo_\bl_\bu_\bm_\bn _\bi_\bn_\bt_\bo _\bm_\bu_\bl_\bt_\bi_\bp_\bl_\be _\bc_\bo_\bl_\bu_\bm_\bn_\bs.\n",
       "\n",
       "_\bD_\be_\bs_\bc_\br_\bi_\bp_\bt_\bi_\bo_\bn:\n",
       "\n",
       "     Given either regular expression or a vector of character\n",
       "     positions, ‘separate()’ turns a single character column into\n",
       "     multiple columns.\n",
       "\n",
       "_\bU_\bs_\ba_\bg_\be:\n",
       "\n",
       "     separate(data, col, into, sep = \"[^[:alnum:]]+\", remove = TRUE,\n",
       "       convert = FALSE, extra = \"warn\", fill = \"warn\", ...)\n",
       "     \n",
       "_\bA_\br_\bg_\bu_\bm_\be_\bn_\bt_\bs:\n",
       "\n",
       "    data: A data frame.\n",
       "\n",
       "     col: Bare column name.\n",
       "\n",
       "    into: Names of new variables to create as character vector.\n",
       "\n",
       "     sep: Separator between columns.\n",
       "\n",
       "          If character, is interpreted as a regular expression. The\n",
       "          default value is a regular expression that matches any\n",
       "          sequence of non-alphanumeric values.\n",
       "\n",
       "          If numeric, interpreted as positions to split at. Positive\n",
       "          values start at 1 at the far-left of the string; negative\n",
       "          value start at -1 at the far-right of the string. The length\n",
       "          of ‘sep’ should be one less than ‘into’.\n",
       "\n",
       "  remove: If ‘TRUE’, remove input column from output data frame.\n",
       "\n",
       " convert: If ‘TRUE’, will run ‘type.convert’ with ‘as.is = TRUE’ on new\n",
       "          columns. This is useful if the component columns are integer,\n",
       "          numeric or logical.\n",
       "\n",
       "   extra: If ‘sep’ is a character vector, this controls what happens\n",
       "          when there are too many pieces. There are three valid\n",
       "          options:\n",
       "\n",
       "            • \"warn\" (the default): emit a waring and drop extra\n",
       "              values.\n",
       "\n",
       "            • \"drop\": drop any extra values without a warning.\n",
       "\n",
       "            • \"merge\": only splits at most ‘length(into)’ times\n",
       "\n",
       "    fill: If ‘sep’ is a character vector, this controls what happens\n",
       "          when there are not enough pieces. There are three valid\n",
       "          options:\n",
       "\n",
       "            • \"warn\" (the default): emit a waring and fill from the\n",
       "              right\n",
       "\n",
       "            • \"right\": fill with missing values on the right\n",
       "\n",
       "            • \"left\": fill with missing values on the left\n",
       "\n",
       "     ...: Other arguments passed on to ‘strsplit’ to control how the\n",
       "          regular expression is processed.\n",
       "\n",
       "_\bE_\bx_\ba_\bm_\bp_\bl_\be_\bs:\n",
       "\n",
       "     library(dplyr)\n",
       "     df <- data.frame(x = c(NA, \"a.b\", \"a.d\", \"b.c\"))\n",
       "     df %>% separate(x, c(\"A\", \"B\"))\n",
       "     \n",
       "     # If every row doesn't split into the same number of pieces, use\n",
       "     # the extra and file arguments to control what happens\n",
       "     df <- data.frame(x = c(\"a\", \"a b\", \"a b c\", NA))\n",
       "     df %>% separate(x, c(\"a\", \"b\"))\n",
       "     # The same behaviour but no warnings\n",
       "     df %>% separate(x, c(\"a\", \"b\"), extra = \"drop\", fill = \"right\")\n",
       "     # Another option:\n",
       "     df %>% separate(x, c(\"a\", \"b\"), extra = \"merge\", fill = \"left\")\n",
       "     \n",
       "     # If only want to split specified number of times use extra = \"merge\"\n",
       "     df <- data.frame(x = c(\"x: 123\", \"y: error: 7\"))\n",
       "     df %>% separate(x, c(\"key\", \"value\"), \": \", extra = \"merge\")\n",
       "     "
      ]
     },
     "execution_count": 70,
     "metadata": {},
     "output_type": "execute_result"
    }
   ],
   "source": [
    "help('separate')"
   ]
  },
  {
   "cell_type": "code",
   "execution_count": null,
   "metadata": {},
   "outputs": [],
   "source": []
  }
 ],
 "metadata": {
  "kernelspec": {
   "display_name": "R",
   "language": "R",
   "name": "ir"
  },
  "language_info": {
   "codemirror_mode": "r",
   "file_extension": ".r",
   "mimetype": "text/x-r-source",
   "name": "R",
   "pygments_lexer": "r",
   "version": "3.2.2"
  }
 },
 "nbformat": 4,
 "nbformat_minor": 4
}
